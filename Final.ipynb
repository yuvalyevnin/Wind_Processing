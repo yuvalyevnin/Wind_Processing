{
 "cells": [
  {
   "cell_type": "markdown",
   "metadata": {},
   "source": [
    "# Imports "
   ]
  },
  {
   "cell_type": "code",
   "execution_count": null,
   "metadata": {
    "ExecuteTime": {
     "end_time": "2021-06-17T12:26:26.039319Z",
     "start_time": "2021-06-17T12:26:24.793853Z"
    }
   },
   "outputs": [],
   "source": [
    "%load_ext autoreload\n",
    "%autoreload 2\n",
    "%matplotlib notebook\n",
    "\n",
    "import pandas as pd\n",
    "import numpy as np\n",
    "import xarray as xr\n",
    "\n",
    "from fastai.vision.all import *\n",
    "from layers.convGRU import ConvGRU\n",
    "from sklearn.metrics import r2_score as sk_r2_score\n",
    "\n",
    "from mpl_toolkits import mplot3d\n",
    "from matplotlib import cm\n",
    "from matplotlib.tri import Triangulation\n",
    "from mpl_toolkits.mplot3d import Axes3D\n",
    "from mpl_toolkits.basemap import Basemap\n",
    "import matplotlib.pyplot as plt"
   ]
  },
  {
   "cell_type": "code",
   "execution_count": null,
   "metadata": {
    "ExecuteTime": {
     "end_time": "2021-06-17T08:27:52.367352Z",
     "start_time": "2021-06-17T08:27:52.354814Z"
    }
   },
   "outputs": [],
   "source": [
    "# import wandb\n",
    "# from fastai.callback.wandb import *\n",
    "# os.environ['WANDB_NOTEBOOK_NAME'] = 'med_wind' "
   ]
  },
  {
   "cell_type": "markdown",
   "metadata": {},
   "source": [
    "# Download wind data \n",
    "Requires installing cdsapi from: https://cds.climate.copernicus.eu/api-how-to\n",
    "\n",
    "This might take a while, but only need to run once."
   ]
  },
  {
   "cell_type": "code",
   "execution_count": null,
   "metadata": {},
   "outputs": [],
   "source": [
    "import datetime\n",
    "import cdsapi\n",
    "c = cdsapi.Client()"
   ]
  },
  {
   "cell_type": "markdown",
   "metadata": {},
   "source": [
    "## Forecast"
   ]
  },
  {
   "cell_type": "code",
   "execution_count": null,
   "metadata": {},
   "outputs": [],
   "source": [
    "hours=[6,18]\n",
    "for year in range(2000,2019):\n",
    "    for hour in hours:\n",
    "        start=datetime.datetime(year-1,12,31,hour,0,0)\n",
    "        end=datetime.datetime(year+1,1,1,hour,0,0)\n",
    "        oneday=datetime.timedelta(1,0,0)\n",
    "        current=start\n",
    "        while current<end:\n",
    "            c.retrieve('reanalysis-era5-complete', {\n",
    "            'format':'netcdf',\n",
    "            'class': 'ea',\n",
    "            'date': '%4d-%02d-%02d'  %(current.year,current.month,current.day),\n",
    "            'expver': '1',\n",
    "            'levtype': 'sfc',\n",
    "            'grid':'0.1/0.1',\n",
    "            'area' : '50/-10/29/40',\n",
    "            'param': '165.128/166.128',\n",
    "            'step': '0/1/2/3/4/5/6/7/8/9/10/11/12/13/14/15/16/17/18',\n",
    "            'stream': 'oper',\n",
    "            'time': '%02d:%02d:%02d' %(current.hour,current.minute,current.second),\n",
    "            'type': 'fc',\n",
    "            }, 'data/input/fore/era5_forecast_%4d%02d%02d%02d.nc' %(current.year,current.month,current.day,current.hour))\n",
    "            current=current+oneday"
   ]
  },
  {
   "cell_type": "markdown",
   "metadata": {},
   "source": [
    "## Reanalysis"
   ]
  },
  {
   "cell_type": "code",
   "execution_count": null,
   "metadata": {},
   "outputs": [],
   "source": [
    "for year in range(2000,2019):\n",
    "    c.retrieve(\n",
    "        'reanalysis-era5-single-levels',\n",
    "        {\n",
    "            'product_type':'reanalysis',\n",
    "            'format':'netcdf',\n",
    "            'variable':[\n",
    "                '10m_u_component_of_wind','10m_v_component_of_wind'\n",
    "            ],\n",
    "            'grid':'0.1/0.1',\n",
    "            'area' : '50/-10/29/40',\n",
    "            'year':'%4d' %year,\n",
    "            'month':[\n",
    "                '01','02','03',\n",
    "                '04','05','06',\n",
    "                '07','08','09',\n",
    "                '10','11','12'\n",
    "            ],\n",
    "            'day':[\n",
    "                '01','02','03',\n",
    "                '04','05','06',\n",
    "                '07','08','09',\n",
    "                '10','11','12',\n",
    "                '13','14','15',\n",
    "                '16','17','18',\n",
    "                '19','20','21',\n",
    "                '22','23','24',\n",
    "                '25','26','27',\n",
    "                '28','29','30',\n",
    "                '31'\n",
    "            ],\n",
    "            'time':[\n",
    "                '00:00','01:00','02:00',\n",
    "                '03:00','04:00','05:00',\n",
    "                '06:00','07:00','08:00',\n",
    "                '09:00','10:00','11:00',\n",
    "                '12:00','13:00','14:00',\n",
    "                '15:00','16:00','17:00',\n",
    "                '18:00','19:00','20:00',\n",
    "                '21:00','22:00','23:00'\n",
    "            ]\n",
    "        },\n",
    "        'data/input/rean/era5_reanalysis_%4d.nc' %year )"
   ]
  },
  {
   "cell_type": "markdown",
   "metadata": {},
   "source": [
    "# Define model"
   ]
  },
  {
   "cell_type": "code",
   "execution_count": null,
   "metadata": {
    "ExecuteTime": {
     "end_time": "2021-06-17T08:35:52.543140Z",
     "start_time": "2021-06-17T08:35:52.515553Z"
    }
   },
   "outputs": [],
   "source": [
    "class convGRU_res_model(Module):\n",
    "    \"\"\"\n",
    "    This model builds a pseudo-Unet model using dilation, with a convGRU in the middle.\n",
    "    Args:\n",
    "        n_conv_hidden (list): Channels for pseuso-Unet\n",
    "        n_dilation (list): Dilations for pseuso-Unet\n",
    "        n_gru_hidden (int): Numer of convGRU layers. Default: 1\n",
    "        kernel_size (int): Kernel size for pseuso-Unet. Default: 3\n",
    "        in_channels (int): Number of channels of the input. Default: 1\n",
    "        gru_in_shape (tuple): Dimensions of the image input to the convGRU layers. Default: (32,128)\n",
    "    Shape:\n",
    "        Input: (N, T, C, lat, lon)\n",
    "        Output: (N, C, lat, lon)\n",
    "        where:\n",
    "            N = Batch size\n",
    "            T = # of look-back points in time\n",
    "            C = # of channels\n",
    "            lat = # of latitude grid points\n",
    "            lon = # of longitude grid points\n",
    "    \"\"\"\n",
    "    def __init__(self, n_conv_hidden,n_dilation,n_gru_hidden=1,kernel_size=3,\n",
    "                 in_channels=1,gru_in_shape=(32,128)):\n",
    "        assert len(n_conv_hidden) == len(n_dilation)\n",
    "        \n",
    "        self.n_conv_hidden = n_conv_hidden\n",
    "        self.n_conv_hidden.insert(0,in_channels)  # insert the input channels for first and last conv layers\n",
    "        self.n_dilation = n_dilation\n",
    "        self.n_gru_hidden = n_gru_hidden\n",
    "        self.n_conv_layers = len(self.n_dilation)\n",
    "        self.kernel_size = kernel_size\n",
    "        self.gru_in_shape = gru_in_shape\n",
    "\n",
    "        self.conv_in = []\n",
    "        self.conv_out = []\n",
    "        self.gru = []\n",
    "        \n",
    "        # Loop to build encoder part of pseuso-Unet\n",
    "        for l in range(self.n_conv_layers):\n",
    "            self.conv_in.append(\n",
    "            nn.Conv2d(\n",
    "                in_channels = self.n_conv_hidden[l],\n",
    "                out_channels = self.n_conv_hidden[l+1],\n",
    "                kernel_size = self.kernel_size,\n",
    "                padding = self.kernel_size//2*self.n_dilation[l],\n",
    "                dilation = self.n_dilation[l]\n",
    "                ).cuda()\n",
    "            )\n",
    "        self.conv_in = nn.ModuleList(self.conv_in)                \n",
    "        \n",
    "        # Build convGRU layers\n",
    "        self.gru = ConvGRU(\n",
    "                input_size = self.gru_in_shape,\n",
    "                input_dim = self.n_conv_hidden[-1],\n",
    "                hidden_dim = self.n_conv_hidden[-1],\n",
    "                kernel_size = (self.kernel_size,self.kernel_size),\n",
    "                num_layers = self.n_gru_hidden,\n",
    "                dtype = torch.cuda.FloatTensor,\n",
    "                batch_first=True,\n",
    "                bias=True,\n",
    "                return_all_layers=False\n",
    "                    ).cuda()\n",
    "        \n",
    "        # Loop to build decoder part of pseuso-Unet\n",
    "        for l in range(self.n_conv_layers-1,0,-1):\n",
    "            self.conv_out.append(\n",
    "            nn.Conv2d(\n",
    "                in_channels = self.n_conv_hidden[l+1]*2,\n",
    "                out_channels = self.n_conv_hidden[l]*2,\n",
    "                kernel_size = self.kernel_size,\n",
    "                padding = self.kernel_size//2*self.n_dilation[l],\n",
    "                dilation = self.n_dilation[l]\n",
    "                )\n",
    "            )        \n",
    "        # last decoder layer out of loop for out_channels without the x2\n",
    "        self.conv_out.append(\n",
    "            nn.Conv2d(\n",
    "                in_channels = self.n_conv_hidden[1]*2,\n",
    "                out_channels = self.n_conv_hidden[0],\n",
    "                kernel_size = self.kernel_size,\n",
    "                padding = self.kernel_size//2*self.n_dilation[0],\n",
    "                dilation = self.n_dilation[0]\n",
    "                ).cuda()\n",
    "            )        \n",
    "        \n",
    "        self.conv_out = nn.ModuleList(self.conv_out)\n",
    "\n",
    "                \n",
    "    def forward(self, x):\n",
    "        x=x.cuda()\n",
    "        inp=x[:,-1]   # residual\n",
    "        seq_len = x.shape[1]\n",
    "        \n",
    "        # encoder\n",
    "        for l in torch.arange(self.n_conv_layers, dtype=torch.int32):\n",
    "            xlist = []\n",
    "            for t in range(seq_len):\n",
    "                xlist.append(self.conv_in[l](x[:,t]).unsqueeze(dim=1))\n",
    "            x=torch.cat(xlist,dim=1)\n",
    "        \n",
    "        # ConvGRU\n",
    "        xlist, hlist = self.gru(x.cuda())\n",
    "        x=torch.cat((xlist[-1][:,-1],x[:,-1]),dim=1).cuda()\n",
    "        \n",
    "        # Decoder\n",
    "        for l in torch.arange(self.n_conv_layers, dtype=torch.int32):\n",
    "            x = self.conv_out[l](x)\n",
    "        \n",
    "        # Residual\n",
    "        x = x+inp\n",
    "        return x"
   ]
  },
  {
   "cell_type": "markdown",
   "metadata": {},
   "source": [
    "# Load data"
   ]
  },
  {
   "cell_type": "code",
   "execution_count": null,
   "metadata": {},
   "outputs": [],
   "source": [
    "data_path= Path('data/')"
   ]
  },
  {
   "cell_type": "code",
   "execution_count": null,
   "metadata": {
    "ExecuteTime": {
     "end_time": "2021-06-17T08:35:54.309060Z",
     "start_time": "2021-06-17T08:35:54.253990Z"
    }
   },
   "outputs": [],
   "source": [
    "fnames=sorted([str(x) for x in Path(data_path.as_posix()+'/input/fore/').ls()])\n",
    "x_fore = xr.open_mfdataset(fnames,   #'/home/yuval/projects/data/wind/era5_forecast/*.nc', \n",
    "                               combine='by_coords', preprocess=lambda x:x.isel(time=slice(6,18)))\n",
    "x_fore = x_fore.rename({'longitude':'lon','latitude':'lat'})\n",
    "x_fore = x_fore.sortby('lat')\n",
    "x_fore"
   ]
  },
  {
   "cell_type": "code",
   "execution_count": null,
   "metadata": {
    "ExecuteTime": {
     "end_time": "2021-06-17T08:35:55.102052Z",
     "start_time": "2021-06-17T08:35:55.060398Z"
    }
   },
   "outputs": [],
   "source": [
    "x_reanalysis = xr.open_mfdataset(data_path.as_posix()+'/input/rean/*.nc',\n",
    "                                 combine='by_coords')\n",
    "x_reanalysis = x_reanalysis.rename({'longitude':'lon','latitude':'lat'})\n",
    "x_reanalysis = x_reanalysis.sortby('lat')\n",
    "x_reanalysis"
   ]
  },
  {
   "cell_type": "code",
   "execution_count": null,
   "metadata": {
    "ExecuteTime": {
     "end_time": "2021-06-17T08:50:52.965099Z",
     "start_time": "2021-06-17T08:50:52.935251Z"
    }
   },
   "outputs": [],
   "source": [
    "def combine_fore_rean(fore,rean,params=['wnd_vel','dir']):\n",
    "    \"Combines given forecast and reanalysis arrays to a single array with params properties\"\n",
    "    fore = fore[params]\n",
    "    rean = rean[params]\n",
    "    for var in params:\n",
    "        fore=fore.rename({var:(var+'_fore')})\n",
    "        fore[var+'_rean'] = rean[var]\n",
    "#         rean.rename({var:var+'_rean'},inpalce=True)\n",
    "    \n",
    "    return fore\n",
    "\n",
    "def get_seq(ds,n_recent=12,wnd_norm=1,params=['wnd_vel']):\n",
    "    \"\"\"\n",
    "    Creates a sequence from combined fore and rean array.\n",
    "    Sequence is a tuple of Shape ((N, T, C, lat, lon), (N, C, lat, lon)) where:\n",
    "        N = Batch size\n",
    "        T = # of look-back points in time == n_recent\n",
    "        C = # of channels (given by number of params)\n",
    "        lat = # of latitude grid points\n",
    "        lon = # of longitude grid points\n",
    "    the property can be devided by a given wnd_norm. Default: 1\n",
    "    \"\"\"\n",
    "    dt=(ds.time.values[1:]-ds.time.values[:-1]).astype('timedelta64[m]').astype('int')\n",
    "    dt_median = np.median(dt).astype('int')\n",
    "    dt=np.append(dt_median,dt)\n",
    "    X=[]\n",
    "    y=[]\n",
    "    for p in params:\n",
    "        X.append(torch.Tensor(ds[p+'_fore'].values/wnd_norm).unsqueeze(dim=1))\n",
    "        y.append(torch.Tensor(ds[p+'_rean'].values/wnd_norm).unsqueeze(dim=1))\n",
    "    X = torch.cat(X,dim=1)\n",
    "    y = torch.cat(y,dim=1)\n",
    "    seq = [(X[i:i+n_recent], y[i+n_recent-1]) \n",
    "           for i in range(len(X)-n_recent+1) \n",
    "           if ~(dt[i:i+n_recent] > dt_median).any()               # this removes seq with time jump\n",
    "          ]\n",
    "    return seq    \n",
    "\n",
    "\n",
    "def add_prop(ds):\n",
    "    \"Adds wind magnitude (wnd_vel), direction and cos/sin of that direction to the wind array\"\n",
    "    ds['wnd_vel'] = (ds.u10**2+ds.v10**2)**0.5\n",
    "    ds['cos'] = ds.u10/ds.wnd_vel\n",
    "    ds['sin'] = ds.v10/ds.wnd_vel\n",
    "    ds['dir'] = xr.ufuncs.arctan2(ds.v10,ds.u10)\n",
    "    return ds\n",
    "\n"
   ]
  },
  {
   "cell_type": "code",
   "execution_count": null,
   "metadata": {
    "ExecuteTime": {
     "end_time": "2021-06-17T08:50:55.192624Z",
     "start_time": "2021-06-17T08:50:55.150893Z"
    }
   },
   "outputs": [],
   "source": [
    "\"Define dimensions of wind array in space and time\"\n",
    "lon_min, lon_max , lat_min , lat_max = -2.1, 36.2, 30.2, 45.8\n",
    "lon_slice = slice(lon_min,lon_max,3)\n",
    "lat_slice = slice(lat_min,lat_max,5)\n",
    "time_slice = slice('2017')\n",
    "# time_slice = slice('2000', '2016')\n",
    "\n",
    "rean = x_reanalysis.sel(lon=lon_slice,lat=lat_slice)\n",
    "fore = x_fore.sel(lon=lon_slice,lat=lat_slice)\n",
    "rean = add_prop(rean)\n",
    "fore = add_prop(fore)\n",
    "\n",
    "# \"This could have high memory usage\"\n",
    "# rean=rean.load() \n",
    "# fore=fore.load()"
   ]
  },
  {
   "cell_type": "markdown",
   "metadata": {},
   "source": [
    "# Prepare data and model"
   ]
  },
  {
   "cell_type": "code",
   "execution_count": null,
   "metadata": {
    "ExecuteTime": {
     "end_time": "2021-06-17T08:35:59.461756Z",
     "start_time": "2021-06-17T08:35:59.438471Z"
    }
   },
   "outputs": [],
   "source": [
    "def get_rmse_stats(val_true,val_pred,val_x,run,val_year,keep_rmses=False):\n",
    "    \"\"\"\n",
    "    Helper function to store and print RMSE.\n",
    "    Args:\n",
    "        val_true (Tensor): Ground truth\n",
    "        val_pred (Tensor): Model predition\n",
    "        val_x (Tensor): Model input, which is the original forecast\n",
    "        run (int): Run number\n",
    "        val_year (int): Year of validation\n",
    "        keep_rmses (Bool): If this is true the RMSE raw values are stored. Default: False\n",
    "    \"\"\"\n",
    "    rmses=pd.DataFrame(columns=['rean-fore', 'rean-pred'])\n",
    "    for i in range(len(val_pred)):\n",
    "        rmses=rmses.append({'rean-fore':rmse(val_true[i],val_x[i]).numpy(), \n",
    "                            'rean-pred':rmse(val_true[i],val_pred[i]).numpy()},\n",
    "                           ignore_index=True)\n",
    "    \n",
    "    print('RMSE rean-pred: %f\\nRMSE rean-fore: %f\\nRMSE improved by %f\\n' \n",
    "      %(rmse(val_true,val_pred),\n",
    "        rmse(val_true,val_x),\n",
    "       1-rmse(val_true,val_pred)/rmse(val_true,val_x)))\n",
    "    print('max RMSE pred: %f, fore: %f\\nmin RMSE pred: %f, fore: %f\\nmean RMSE pred: %f, fore: %f\\nmedian RMSE pred: %f, fore: %f\\n'\n",
    "          %(rmses.max()[1],rmses.max()[0],\n",
    "           rmses.min()[1],rmses.min()[0],\n",
    "           rmses.mean()[1],rmses.mean()[0],\n",
    "           rmses.median()[1],rmses.median()[0]))\n",
    "    \n",
    "    dict={\n",
    "       'RMSE rean-pred': rmse(val_true,val_pred).unsqueeze(dim=0).numpy()[0],\n",
    "       'RMSE rean-fore': rmse(val_true,val_x).unsqueeze(dim=0).numpy()[0],\n",
    "       'RMSE improved by': (1-rmse(val_true,val_pred)/rmse(val_true,val_x)).unsqueeze(dim=0).numpy()[0],\n",
    "        'pred max rmse': rmses.max()[1],\n",
    "        'fore max rmse': rmses.max()[0],\n",
    "        'pred min rmse': rmses.min()[1],\n",
    "        'fore min rmse': rmses.min()[0],\n",
    "        'pred mean rmse': rmses.mean()[1],\n",
    "        'fore mean rmse': rmses.mean()[0],\n",
    "        'pred median rmse': rmses.median()[1], \n",
    "        'fore median rmse': rmses.median()[0],\n",
    "        'val year': val_year\n",
    "    }\n",
    "    \n",
    "    if keep_rmses:\n",
    "        dict['rmses'] = rmses\n",
    "    \n",
    "    return dict"
   ]
  },
  {
   "cell_type": "code",
   "execution_count": null,
   "metadata": {},
   "outputs": [],
   "source": [
    "def run_cycles(runs,epochs=2,lr=1e-3,dev=1,pct=0.5,name='UMag',save=False):\n",
    "    \"\"\"\n",
    "    Runs model with changing learning rate (LR), saves and logs statistics\n",
    "    Args:\n",
    "        runs (int): # of runs with different LR\n",
    "        epochs (int): # of epochs per run. Default: 2\n",
    "        lr (int): Initial LR. Default: 1e-3\n",
    "        dev (int): LR devider, with power of current run. Default: 1\n",
    "        pct (int): One cycle PCT. Default: 0.5\n",
    "        name (string): Model name. Default: 'UMag'\n",
    "        save (Bool): If true model is saved after each run. Default: False\n",
    "    \"\"\"\n",
    "    for run in range(runs):\n",
    "        print('run_%s_%dcyc' %(name,(epochs*(run+1))))\n",
    "        learn.fit_one_cycle(epochs, lr/(dev**run), pct_start=pct)\n",
    "        if save:\n",
    "            learn.save('run_%s_%dcyc' %(name,(epochs*(run+1))))\n",
    "        val_pred,val_true = learn.get_preds()\n",
    "        val_x=torch.cat([x[0][-1:] for x in dls.valid_ds],dim=0)\n",
    "        rmse_dict = get_rmse_stats(val_true,val_pred,val_x,'1',2017)\n",
    "#         wandb.log(rmse_dict)"
   ]
  },
  {
   "cell_type": "markdown",
   "metadata": {},
   "source": [
    "## UMag"
   ]
  },
  {
   "cell_type": "code",
   "execution_count": null,
   "metadata": {},
   "outputs": [],
   "source": [
    "\"This section runs the model for UMag, meaning it takes the wind magnitude as input and returns the same\""
   ]
  },
  {
   "cell_type": "code",
   "execution_count": null,
   "metadata": {
    "ExecuteTime": {
     "end_time": "2021-06-17T11:34:00.483017Z",
     "start_time": "2021-06-17T11:33:58.340836Z"
    }
   },
   "outputs": [],
   "source": [
    "params=['wnd_vel']\n",
    "data = combine_fore_rean(fore,rean,params)\n",
    "\n",
    "pdtimes = pd.DatetimeIndex(data.time.values)\n",
    "val = data.sel(time=slice('2017-01-02 08','2017-01-02 22'))\n",
    "# val = data.sel(time='2000')\n",
    "val = val.load()\n",
    "\n",
    "train = data.sel(time=slice('2017-01-01 12','2017-01-02 07'))\n",
    "# train = data.sel(time=slice('2001','2016'))\n",
    "train = train.load()\n",
    "\n",
    "seq = get_seq(train,params=params)\n",
    "seq_val = get_seq(val,params=params)\n",
    "\n",
    "# bs=16\n",
    "bs=4\n",
    "dls = DataLoaders.from_dsets(seq,seq_val,bs=bs,\n",
    "                             shuffle=False, drop_last=True)\n",
    "\n",
    "arch = convGRU_res_model([8,16,64,128],[1,2,4,8],1,in_channels=1).cuda()\n",
    "\n",
    "learn = Learner(dls, arch, wd=1e-3, loss_func=MSELossFlat(),metrics=rmse\n",
    "#                ,cbs=WandbCallback()              \n",
    "               )"
   ]
  },
  {
   "cell_type": "code",
   "execution_count": null,
   "metadata": {
    "ExecuteTime": {
     "end_time": "2021-06-17T08:25:21.276738Z",
     "start_time": "2021-06-17T08:25:11.796710Z"
    }
   },
   "outputs": [],
   "source": [
    "run_cycles(2,epochs=2,lr=1e-3,dev=10,pct=0.3,save=True)"
   ]
  },
  {
   "cell_type": "markdown",
   "metadata": {},
   "source": [
    "## UVec"
   ]
  },
  {
   "cell_type": "code",
   "execution_count": null,
   "metadata": {},
   "outputs": [],
   "source": [
    "\"This section runs the model for UVec, meaning it takes the wind vector (u10,v10) as input and returns the same\""
   ]
  },
  {
   "cell_type": "code",
   "execution_count": null,
   "metadata": {
    "ExecuteTime": {
     "end_time": "2021-06-17T08:25:30.948525Z",
     "start_time": "2021-06-17T08:25:30.716647Z"
    }
   },
   "outputs": [],
   "source": [
    "params=['u10','v10']\n",
    "data = combine_fore_rean(fore,rean,params)\n",
    "\n",
    "pdtimes = pd.DatetimeIndex(data.time.values)\n",
    "val = data.sel(time=slice('2017-01-02 08','2017-01-02 22'))\n",
    "# val = data.sel(time='2000')\n",
    "val = val.load()\n",
    "\n",
    "train = data.sel(time=slice('2017-01-01 12','2017-01-02 07'))\n",
    "# train = data.sel(time=slice('2001','2016'))\n",
    "train = train.load()\n",
    "\n",
    "seq = get_seq(train,params=params)\n",
    "seq_val = get_seq(val,params=params)\n",
    "\n",
    "# bs=16\n",
    "bs=4\n",
    "dls = DataLoaders.from_dsets(seq,seq_val,bs=bs,\n",
    "                             shuffle=False, drop_last=True)\n",
    "\n",
    "arch = convGRU_res_model([8,16,64,128],[1,2,4,8],1,in_channels=2).cuda()\n",
    "\n",
    "learn = Learner(dls, arch, wd=1e-3, loss_func=MSELossFlat(),metrics=rmse\n",
    "#                ,cbs=WandbCallback()              \n",
    "               )"
   ]
  },
  {
   "cell_type": "code",
   "execution_count": null,
   "metadata": {
    "ExecuteTime": {
     "end_time": "2021-06-17T08:25:41.728929Z",
     "start_time": "2021-06-17T08:25:32.329006Z"
    }
   },
   "outputs": [],
   "source": [
    "run_cycles(2,epochs=2,lr=1e-3,dev=10,pct=0.3,save=True,name='UVec')"
   ]
  },
  {
   "cell_type": "markdown",
   "metadata": {},
   "source": [
    "# Generate wind.nc files \n",
    "this creates .nc files from the deep learning model to be used in WAVEWATCH III wave forecasting model"
   ]
  },
  {
   "cell_type": "code",
   "execution_count": null,
   "metadata": {
    "ExecuteTime": {
     "end_time": "2021-06-17T08:25:45.363337Z",
     "start_time": "2021-06-17T08:25:45.342520Z"
    }
   },
   "outputs": [],
   "source": [
    "def relative_error(old,new):\n",
    "    return (np.abs((old - new) / old)).mean()"
   ]
  },
  {
   "cell_type": "code",
   "execution_count": null,
   "metadata": {
    "ExecuteTime": {
     "end_time": "2021-06-17T08:25:45.628479Z",
     "start_time": "2021-06-17T08:25:45.533961Z"
    }
   },
   "outputs": [],
   "source": [
    "data_test = combine_fore_rean(fore,rean,['wnd_vel','cos','sin','dir','u10','v10'])\n",
    "time_slice =slice('2017-01-02 23','2017-01-03 11')\n",
    "# time_slice = '2017'\n",
    "data_test = data_test.sel(time=time_slice)\n",
    "data_test=data_test.load()\n",
    "seq_test = get_seq(data_test)"
   ]
  },
  {
   "cell_type": "markdown",
   "metadata": {},
   "source": [
    "## UMag "
   ]
  },
  {
   "cell_type": "code",
   "execution_count": null,
   "metadata": {
    "ExecuteTime": {
     "end_time": "2021-06-17T08:25:47.840488Z",
     "start_time": "2021-06-17T08:25:47.795234Z"
    }
   },
   "outputs": [],
   "source": [
    "seq_test = get_seq(data_test)\n",
    "arch = convGRU_res_model([8,16,64,128],[1,2,4,8],1,in_channels=1).cuda()\n",
    "dls_test = DataLoaders.from_dsets(seq_test,seq_test,bs=bs,\n",
    "                                 shuffle=False, drop_last=True)\n",
    "learn_test = Learner(dls_test, arch, wd=1e-3, loss_func=MSELossFlat(),metrics=rmse)\n",
    "# learn_test.path=Path('/home/yuval/projects/wave_grid/era5_wind')\n",
    "learn_test.load('run_UMag_4cyc');"
   ]
  },
  {
   "cell_type": "code",
   "execution_count": null,
   "metadata": {
    "ExecuteTime": {
     "end_time": "2021-06-17T08:25:48.945243Z",
     "start_time": "2021-06-17T08:25:47.966943Z"
    }
   },
   "outputs": [],
   "source": [
    "test_pred,test_true = learn_test.get_preds()\n",
    "test_x=torch.cat([x[0][-1:] for x in dls_test.valid_ds],dim=0)\n",
    "test_pred = test_pred/2  # this is a fix as it was trained with mean instead of sum"
   ]
  },
  {
   "cell_type": "code",
   "execution_count": null,
   "metadata": {
    "ExecuteTime": {
     "end_time": "2021-06-17T08:25:50.438074Z",
     "start_time": "2021-06-17T08:25:50.416935Z"
    }
   },
   "outputs": [],
   "source": [
    "print('wnd_vel RMSE pred: %f,   fore: %f,  improved by: %f' %(rmse(test_true,test_pred),rmse(test_true,test_x),\n",
    "                                            1-rmse(test_true,test_pred)/rmse(test_true,test_x)))"
   ]
  },
  {
   "cell_type": "code",
   "execution_count": null,
   "metadata": {
    "ExecuteTime": {
     "end_time": "2021-06-17T08:25:51.751927Z",
     "start_time": "2021-06-17T08:25:51.718147Z"
    }
   },
   "outputs": [],
   "source": [
    "# this is for UMag prediction to u10/v10 with original direction\n",
    "\n",
    "#FIX TIME TO MATCH PREDICTION\n",
    "max_time_idx = len(data_test.time)\n",
    "n_recent=12\n",
    "data_test_cut = data_test.copy().isel(time=slice(n_recent-1,max_time_idx))\n",
    "assert len(data_test_cut.time) == len(test_pred)\n",
    "\n",
    "ds_test_fore=xr.Dataset({\n",
    "    'u10': (['time','lat','lon'],data_test_cut.cos_fore.values*test_x.squeeze().numpy()),\n",
    "    'v10': (['time','lat','lon'],data_test_cut.sin_fore.values*test_x.squeeze().numpy())},\n",
    "    coords={\n",
    "        'time': data_test_cut.time.values,\n",
    "        'lat': data_test_cut.lat.values,\n",
    "        'lon': data_test_cut.lon.values\n",
    "    })\n",
    "\n",
    "ds_test_pred=xr.Dataset({\n",
    "    'u10': (['time','lat','lon'],data_test_cut.cos_fore.values*test_pred.squeeze().numpy()),\n",
    "    'v10': (['time','lat','lon'],data_test_cut.sin_fore.values*test_pred.squeeze().numpy())},\n",
    "    coords={\n",
    "        'time': data_test_cut.time.values,\n",
    "        'lat': data_test_cut.lat.values,\n",
    "        'lon': data_test_cut.lon.values\n",
    "    })\n",
    "\n",
    "ds_test_rean=xr.Dataset({\n",
    "    'u10': (['time','lat','lon'],data_test_cut.cos_rean.values*test_true.squeeze().numpy()),\n",
    "    'v10': (['time','lat','lon'],data_test_cut.sin_rean.values*test_true.squeeze().numpy())},\n",
    "    coords={\n",
    "        'time': data_test_cut.time.values,\n",
    "        'lat': data_test_cut.lat.values,\n",
    "        'lon': data_test_cut.lon.values\n",
    "    })\n",
    "\n",
    "# test relative error of putting the data through the proccessing (should be close to zero)\n",
    "assert relative_error(data_test_cut.u10_fore, ds_test_fore.u10) < 1e-8\n",
    "assert relative_error(data_test_cut.v10_fore, ds_test_fore.v10) < 1e-8\n",
    "assert relative_error(data_test_cut.u10_rean, ds_test_rean.u10) < 1e-8\n",
    "assert relative_error(data_test_cut.v10_rean, ds_test_rean.v10) < 1e-8"
   ]
  },
  {
   "cell_type": "code",
   "execution_count": null,
   "metadata": {
    "ExecuteTime": {
     "end_time": "2021-06-17T08:25:53.030277Z",
     "start_time": "2021-06-17T08:25:53.005059Z"
    }
   },
   "outputs": [],
   "source": [
    "print('u10 RMSE pred: %f,   fore: %f,  improved by: %f' %(\n",
    "    rmse(torch.Tensor(ds_test_rean.u10.values),torch.Tensor(ds_test_pred.u10.values)),\n",
    "    rmse(torch.Tensor(ds_test_rean.u10.values),torch.Tensor(ds_test_fore.u10.values)),\n",
    "1-rmse(torch.Tensor(ds_test_rean.u10.values),torch.Tensor(ds_test_pred.u10.values))/\n",
    "rmse(torch.Tensor(ds_test_rean.u10.values),torch.Tensor(ds_test_fore.u10.values))))\n",
    "\n",
    "print('v10 RMSE pred: %f,   fore: %f,  improved by: %f' %(\n",
    "    rmse(torch.Tensor(ds_test_rean.v10.values),torch.Tensor(ds_test_pred.v10.values)),\n",
    "    rmse(torch.Tensor(ds_test_rean.v10.values),torch.Tensor(ds_test_fore.v10.values)),\n",
    "1-rmse(torch.Tensor(ds_test_rean.v10.values),torch.Tensor(ds_test_pred.v10.values))/\n",
    "rmse(torch.Tensor(ds_test_rean.v10.values),torch.Tensor(ds_test_fore.v10.values))))"
   ]
  },
  {
   "cell_type": "code",
   "execution_count": null,
   "metadata": {
    "ExecuteTime": {
     "end_time": "2021-06-16T11:26:58.994297Z",
     "start_time": "2021-06-16T11:26:58.953800Z"
    }
   },
   "outputs": [],
   "source": [
    "ds_test_fore.to_netcdf('data/output/era5_test_forecast.nc')\n",
    "ds_test_pred.to_netcdf('data/output/era5_test_umag.nc')\n",
    "ds_test_rean.to_netcdf('data/output/era5_test_reanalysis.nc')"
   ]
  },
  {
   "cell_type": "markdown",
   "metadata": {},
   "source": [
    "## UVec"
   ]
  },
  {
   "cell_type": "code",
   "execution_count": null,
   "metadata": {
    "ExecuteTime": {
     "end_time": "2021-06-16T11:36:19.632558Z",
     "start_time": "2021-06-16T11:36:19.562549Z"
    }
   },
   "outputs": [],
   "source": [
    "params=['u10','v10']\n",
    "seq_test = get_seq(data_test,params=params)\n",
    "arch = convGRU_res_model([8,16,64,128],[1,2,4,8],1,in_channels=len(params)).cuda()\n",
    "dls_test = DataLoaders.from_dsets(seq_test,seq_test,bs=bs,\n",
    "                                 shuffle=False, drop_last=True)\n",
    "\n",
    "learn_test = Learner(dls_test, arch, wd=1e-3, loss_func=MSELossFlat(),metrics=rmse)\n",
    "learn_test.load('run_UVec_4cyc');"
   ]
  },
  {
   "cell_type": "code",
   "execution_count": null,
   "metadata": {
    "ExecuteTime": {
     "end_time": "2021-06-16T11:36:21.813068Z",
     "start_time": "2021-06-16T11:36:20.907227Z"
    }
   },
   "outputs": [],
   "source": [
    "test_pred,test_true = learn_test.get_preds()\n",
    "test_x=torch.cat([x[0][-1:] for x in dls_test.valid_ds],dim=0)"
   ]
  },
  {
   "cell_type": "code",
   "execution_count": null,
   "metadata": {
    "ExecuteTime": {
     "end_time": "2021-06-16T11:36:21.843448Z",
     "start_time": "2021-06-16T11:36:21.814599Z"
    }
   },
   "outputs": [],
   "source": [
    "print('u10 RMSE pred: %f,   fore: %f,  improved by: %f' %(rmse(test_true[:,0],test_pred[:,0]),\n",
    "        rmse(test_true[:,0],test_x[:,0]),1-rmse(test_true[:,0],test_pred[:,0])/rmse(test_true[:,0],test_x[:,0])))\n",
    "print('v10 RMSE pred: %f,   fore: %f,  improved by: %f' %(rmse(test_true[:,1],test_pred[:,1]),\n",
    "        rmse(test_true[:,1],test_x[:,1]),1-rmse(test_true[:,1],test_pred[:,1])/rmse(test_true[:,1],test_x[:,1])))"
   ]
  },
  {
   "cell_type": "code",
   "execution_count": null,
   "metadata": {
    "ExecuteTime": {
     "end_time": "2021-06-16T11:36:22.475894Z",
     "start_time": "2021-06-16T11:36:22.435561Z"
    }
   },
   "outputs": [],
   "source": [
    "#FIX TIME TO MATCH PREDICTION!\n",
    "max_time_idx = len(data_test.time)\n",
    "n_recent=12\n",
    "data_test_cut = data_test.copy().isel(time=slice(n_recent-1,max_time_idx))\n",
    "assert len(data_test_cut.time) == len(test_pred)\n",
    "\n",
    "ds_test_fore=xr.Dataset({\n",
    "    'u10': (['time','lat','lon'],test_x[:,0].numpy()),\n",
    "    'v10': (['time','lat','lon'],test_x[:,1].numpy())},\n",
    "    coords={\n",
    "        'time': data_test_cut.time.values,\n",
    "        'lat': data_test_cut.lat.values,\n",
    "        'lon': data_test_cut.lon.values\n",
    "    })\n",
    "\n",
    "ds_test_pred=xr.Dataset({\n",
    "    'u10': (['time','lat','lon'],test_pred[:,0].numpy()),\n",
    "    'v10': (['time','lat','lon'],test_pred[:,1].numpy())},\n",
    "    coords={\n",
    "        'time': data_test_cut.time.values,\n",
    "        'lat': data_test_cut.lat.values,\n",
    "        'lon': data_test_cut.lon.values\n",
    "    })\n",
    "\n",
    "ds_test_rean=xr.Dataset({\n",
    "    'u10': (['time','lat','lon'],test_true[:,0].numpy()),\n",
    "    'v10': (['time','lat','lon'],test_true[:,1].numpy())},\n",
    "    coords={\n",
    "        'time': data_test_cut.time.values,\n",
    "        'lat': data_test_cut.lat.values,\n",
    "        'lon': data_test_cut.lon.values\n",
    "    })\n",
    "\n",
    "# test relative error of putting the data through the proccessing (should be close to zero)\n",
    "assert relative_error(data_test_cut.u10_fore, ds_test_fore.u10) < 1e-8\n",
    "assert relative_error(data_test_cut.v10_fore, ds_test_fore.v10) < 1e-8\n",
    "assert relative_error(data_test_cut.u10_rean, ds_test_rean.u10) < 1e-8\n",
    "assert relative_error(data_test_cut.v10_rean, ds_test_rean.v10) < 1e-8"
   ]
  },
  {
   "cell_type": "code",
   "execution_count": null,
   "metadata": {
    "ExecuteTime": {
     "end_time": "2021-06-16T11:36:23.276076Z",
     "start_time": "2021-06-16T11:36:23.249493Z"
    }
   },
   "outputs": [],
   "source": [
    "print('u10 RMSE pred: %f,   fore: %f,  improved by: %f' %(\n",
    "    rmse(torch.Tensor(ds_test_rean.u10.values),torch.Tensor(ds_test_pred.u10.values)),\n",
    "    rmse(torch.Tensor(ds_test_rean.u10.values),torch.Tensor(ds_test_fore.u10.values)),\n",
    "1-rmse(torch.Tensor(ds_test_rean.u10.values),torch.Tensor(ds_test_pred.u10.values))/\n",
    "rmse(torch.Tensor(ds_test_rean.u10.values),torch.Tensor(ds_test_fore.u10.values))))\n",
    "\n",
    "print('v10 RMSE pred: %f,   fore: %f,  improved by: %f' %(\n",
    "    rmse(torch.Tensor(ds_test_rean.v10.values),torch.Tensor(ds_test_pred.v10.values)),\n",
    "    rmse(torch.Tensor(ds_test_rean.v10.values),torch.Tensor(ds_test_fore.v10.values)),\n",
    "1-rmse(torch.Tensor(ds_test_rean.v10.values),torch.Tensor(ds_test_pred.v10.values))/\n",
    "rmse(torch.Tensor(ds_test_rean.v10.values),torch.Tensor(ds_test_fore.v10.values))))"
   ]
  },
  {
   "cell_type": "code",
   "execution_count": null,
   "metadata": {
    "ExecuteTime": {
     "end_time": "2021-06-16T11:36:23.796153Z",
     "start_time": "2021-06-16T11:36:23.772245Z"
    }
   },
   "outputs": [],
   "source": [
    "ds_test_pred.to_netcdf('data/output/era5_test_uvec.nc')"
   ]
  },
  {
   "cell_type": "markdown",
   "metadata": {},
   "source": [
    "# Stats and plots"
   ]
  },
  {
   "cell_type": "code",
   "execution_count": null,
   "metadata": {
    "ExecuteTime": {
     "end_time": "2021-06-17T12:26:58.571861Z",
     "start_time": "2021-06-17T12:26:58.552582Z"
    }
   },
   "outputs": [],
   "source": [
    "plots_path= Path('plots/')\n",
    "wind_path = Path('data/output/')"
   ]
  },
  {
   "cell_type": "markdown",
   "metadata": {},
   "source": [
    "## Wind"
   ]
  },
  {
   "cell_type": "code",
   "execution_count": null,
   "metadata": {
    "ExecuteTime": {
     "end_time": "2021-06-17T12:26:59.203775Z",
     "start_time": "2021-06-17T12:26:59.050803Z"
    }
   },
   "outputs": [],
   "source": [
    "wind_fore = xr.open_dataset(wind_path.as_posix()+'/era5_test_forecast.nc')\n",
    "wind_rean = xr.open_mfdataset(wind_path.as_posix()+'/era5_test_reanalysis.nc')\n",
    "wind_umag = xr.open_mfdataset(wind_path.as_posix()+'/era5_test_umag.nc')\n",
    "wind_uvec = xr.open_mfdataset(wind_path.as_posix()+'/era5_test_uvec.nc')"
   ]
  },
  {
   "cell_type": "code",
   "execution_count": null,
   "metadata": {
    "ExecuteTime": {
     "end_time": "2021-06-17T08:26:06.869019Z",
     "start_time": "2021-06-17T08:26:06.819839Z"
    }
   },
   "outputs": [],
   "source": [
    "wind_fore = add_prop(wind_fore)\n",
    "wind_rean = add_prop(wind_rean)\n",
    "wind_umag = add_prop(wind_umag)\n",
    "wind_uvec = add_prop(wind_uvec)"
   ]
  },
  {
   "cell_type": "markdown",
   "metadata": {},
   "source": [
    "### Helper functions"
   ]
  },
  {
   "cell_type": "code",
   "execution_count": null,
   "metadata": {
    "ExecuteTime": {
     "end_time": "2021-06-17T08:26:08.046286Z",
     "start_time": "2021-06-17T08:26:08.022109Z"
    }
   },
   "outputs": [],
   "source": [
    "def ds_rmse(ds_pred,ds_true=wind_rean,var='wnd_vel',norm=False):\n",
    "    \"\"\"\n",
    "    Calculates RMSE from two xarrays for given variable.\n",
    "    Args:\n",
    "        ds_pred (xarray): Prediction xarray.\n",
    "        ds_true (xarray): Ground truth xarray. Default: wind_rean\n",
    "        var (str): Variable to calculate RMSE for. Default: wnd_vel\n",
    "        norm (Bool): Normalize the error by deviding it with the GT if true. Default: False\n",
    "    \"\"\"\n",
    "    err=ds_true[var].values-ds_pred.sel(time=ds_true.time.values)[var].values\n",
    "    if reg:\n",
    "        err /= ds_true[var].values\n",
    "    err = np.nan_to_num(err)\n",
    "    return (err**2).mean(axis=dim)**0.5\n",
    "\n",
    "\n",
    "def ds_bias(ds_pred,ds_true=wind_rean,var='wnd_vel',norm=False):\n",
    "    err=ds_pred[var].values-ds_true[var].values\n",
    "    if norm:\n",
    "        err /= ds_true[var].values\n",
    "    err = err[~np.isnan(err)]\n",
    "    return (err).mean()\n",
    "\n",
    "def ds_SI(ds_pred,ds_true=wind_rean,var='wnd_vel'):\n",
    "    pred=ds_pred[var].values\n",
    "    true=ds_true[var].values\n",
    "    cond=np.isnan(pred)+np.isnan(true)\n",
    "    pred = pred[~cond]\n",
    "    true = true[~cond]\n",
    "    si=(((pred-pred.mean())-(true-true.mean()))**2).mean()**0.5 / true.mean() * 100\n",
    "#     si = si[~np.isnan(si)]\n",
    "    return si\n",
    "\n",
    "def ds_R2(ds_pred,ds_true=wind_rean,var='wnd_vel'):\n",
    "    pred=ds_pred[var].values\n",
    "    true=ds_true[var].values\n",
    "    cond=np.isnan(pred)+np.isnan(true)\n",
    "    pred = pred[~cond]\n",
    "    true = true[~cond]\n",
    "    r2 = sk_r2_score(pred,true)\n",
    "#     r2=r2_score(torch.Tensor(pred),torch.Tensor(true))\n",
    "    return r2\n",
    "\n",
    "def ds_diurnal_cycle_mean(ds_pred,var='wnd_vel', with_hour=False):\n",
    "    \"\"\"\n",
    "    Returns the mean diurnal cycle from an xarray for given variable.\n",
    "    Args:\n",
    "        ds_pred (xarray): Xarray input.\n",
    "        var (str): Variable to calculate mean diurnal cycle for. Default: wnd_vel\n",
    "        with_hour (Bool): If true returns a tuple of (hours,mean diurnal cycle). Defalut: False\n",
    "    \"\"\"\n",
    "    pred = ds_pred.groupby(\"time.hour\").mean()[var].values\n",
    "    if with_hour:\n",
    "        return ds_pred.groupby(\"time.hour\").mean().hour,(pred).mean(axis=1).mean(axis=1)\n",
    "    return (pred).mean(axis=1).mean(axis=1)"
   ]
  },
  {
   "cell_type": "code",
   "execution_count": null,
   "metadata": {
    "ExecuteTime": {
     "end_time": "2021-06-17T08:26:09.315088Z",
     "start_time": "2021-06-17T08:26:09.296027Z"
    }
   },
   "outputs": [],
   "source": [
    "def get_stats(pred,func=ds_rmse,rean=wind_rean):\n",
    "    u10=func(pred,ds_true=rean,var='u10')\n",
    "    v10=func(pred,ds_true=rean,var='v10')\n",
    "    U=func(pred,ds_true=rean,var='wnd_vel')\n",
    "    cos=func(pred,ds_true=rean,var='cos')\n",
    "    sin=func(pred,ds_true=rean,var='sin')\n",
    "    return U,u10,v10,cos,sin"
   ]
  },
  {
   "cell_type": "markdown",
   "metadata": {},
   "source": [
    "### stats"
   ]
  },
  {
   "cell_type": "code",
   "execution_count": null,
   "metadata": {
    "ExecuteTime": {
     "end_time": "2021-06-17T08:26:10.046565Z",
     "start_time": "2021-06-17T08:26:10.029823Z"
    }
   },
   "outputs": [],
   "source": [
    "pd_indx = [\n",
    "            ['RMSE','RMSE','RMSE',\n",
    "             'Bias','Bias','Bias',\n",
    "             'SI','SI','SI',\n",
    "             'R2','R2','R2'\n",
    "#              ,'Dcyc','Dcyc','Dcyc'\n",
    "           ],\n",
    "    ['U[m/s]','u10[m/s]','v10[m/s]'\n",
    "    ,'U[m/s]','u10[m/s]','v10[m/s]'\n",
    "    ,'U[m/s]','u10[m/s]','v10[m/s]'\n",
    "    ,'U[m/s]','u10[m/s]','v10[m/s]'\n",
    "#     ,'U[m/s]','u10[m/s]','v10[m/s]'\n",
    "    ]]\n",
    "pd_indx = list(zip(*pd_indx))\n",
    "pd_indx = pd.MultiIndex.from_tuples(pd_indx, names=['Stat', 'Property'])\n"
   ]
  },
  {
   "cell_type": "code",
   "execution_count": null,
   "metadata": {
    "ExecuteTime": {
     "end_time": "2021-06-17T08:26:10.732219Z",
     "start_time": "2021-06-17T08:26:10.527010Z"
    }
   },
   "outputs": [],
   "source": [
    "fc_data = np.concatenate((np.array(get_stats(wind_fore,func=ds_rmse)[:3]),\n",
    "                                           np.array(get_stats(wind_fore,func=ds_bias)[:3]),\n",
    "                                           np.array(get_stats(wind_fore,func=ds_SI)[:3]),\n",
    "                                           np.array(get_stats(wind_fore,func=ds_R2)[:3])\n",
    "#                                            ,np.array(get_stats(wind_fore,func=ds_diurnal_cycle_error)[:3])\n",
    "                                            )) \n",
    "\n",
    "umag_data = np.concatenate((np.array(get_stats(wind_umag,func=ds_rmse)[:3]),\n",
    "                                           np.array(get_stats(wind_umag,func=ds_bias)[:3]),\n",
    "                                           np.array(get_stats(wind_umag,func=ds_SI)[:3]),\n",
    "                                           np.array(get_stats(wind_umag,func=ds_R2)[:3])\n",
    "#                                            ,np.array(get_stats(wind_umag,func=ds_diurnal_cycle_error)[:3])\n",
    "                                            )) \n",
    "\n",
    "uvec_data = np.concatenate((np.array(get_stats(wind_uvec,func=ds_rmse)[:3]),\n",
    "                                           np.array(get_stats(wind_uvec,func=ds_bias)[:3]),\n",
    "                                           np.array(get_stats(wind_uvec,func=ds_SI)[:3]),\n",
    "                                           np.array(get_stats(wind_uvec,func=ds_R2)[:3])\n",
    "#                                            ,np.array(get_stats(wind_uvec,func=ds_diurnal_cycle_error)[:3])\n",
    "                                            )) "
   ]
  },
  {
   "cell_type": "code",
   "execution_count": null,
   "metadata": {
    "ExecuteTime": {
     "end_time": "2021-06-17T08:26:11.192251Z",
     "start_time": "2021-06-17T08:26:11.166658Z"
    }
   },
   "outputs": [],
   "source": [
    "df = pd.DataFrame(data={\n",
    "#                         'FC':fc_data ,'UMag': umag_data ,'UVec': uvec_data\n",
    "                        'FC':np.around(fc_data,4),\n",
    "                        'UMag': np.around(umag_data,4), 'UMag imp.[%]':np.around((1-np.abs(umag_data/fc_data))*100,1),\n",
    "                        'UVec': np.around(uvec_data,4), 'UVec imp.[%]':np.around((1-np.abs(uvec_data/fc_data))*100,1)\n",
    "                       }\n",
    "                  , index=pd_indx)\n",
    "df"
   ]
  },
  {
   "cell_type": "markdown",
   "metadata": {},
   "source": [
    "### Plots"
   ]
  },
  {
   "cell_type": "code",
   "execution_count": null,
   "metadata": {
    "ExecuteTime": {
     "end_time": "2021-06-17T08:26:13.193993Z",
     "start_time": "2021-06-17T08:26:13.175330Z"
    }
   },
   "outputs": [],
   "source": [
    "def wind_rmse(rean,pred,dim=0):\n",
    "    \"\"\"\n",
    "    Returns RMSE map, with the mean only on defined dim.\n",
    "    Args:\n",
    "        rean (Tensor): Ground truth.\n",
    "        pred (Tensor): Prediction\n",
    "        dim (int): Dimension for mean. Default: 0\n",
    "    \"\"\"\n",
    "    return ((rean-pred)**2).mean(dim=dim)**0.5\n",
    "    \n",
    "def wind_sp_rmses(pred,rean=wind_rean):\n",
    "    \"Return spatial RMSE maps of u10,v10,U for given xarrays\"\n",
    "    u10=wind_rmse(torch.Tensor(rean.u10.values),torch.Tensor(pred.u10.values))\n",
    "    v10=wind_rmse(torch.Tensor(rean.v10.values),torch.Tensor(pred.v10.values))\n",
    "    Urean=(rean.u10.values**2+rean.v10.values**2)**0.5\n",
    "    Upred=(pred.u10.values**2+pred.v10.values**2)**0.5\n",
    "    U=wind_rmse(torch.Tensor(Urean),torch.Tensor(Upred))\n",
    "    \n",
    "    return u10,v10,U"
   ]
  },
  {
   "cell_type": "code",
   "execution_count": null,
   "metadata": {
    "ExecuteTime": {
     "end_time": "2021-06-17T08:26:13.691224Z",
     "start_time": "2021-06-17T08:26:13.654093Z"
    }
   },
   "outputs": [],
   "source": [
    "wind_fore_rmses = wind_sp_rmses(wind_fore)\n",
    "wind_umag_rmses = wind_sp_rmses(wind_umag)\n",
    "wind_uvec_rmses = wind_sp_rmses(wind_uvec)"
   ]
  },
  {
   "cell_type": "code",
   "execution_count": null,
   "metadata": {
    "ExecuteTime": {
     "end_time": "2021-06-17T08:26:18.415676Z",
     "start_time": "2021-06-17T08:26:14.055369Z"
    }
   },
   "outputs": [],
   "source": [
    "\"This creates a basemap of the shoreline\"\n",
    "lons, lats = np.meshgrid(wind_rean.lon.values,wind_rean.lat.values)\n",
    "m = Basemap(\n",
    "            projection = 'merc',\n",
    "            llcrnrlat=lats.min(), urcrnrlat=lats.max(),\n",
    "            llcrnrlon=lons.min(), urcrnrlon=lons.max(),\n",
    "            resolution='h', area_thresh=100\n",
    "        )\n",
    "\n",
    "X,Y = m(lons, lats)"
   ]
  },
  {
   "cell_type": "code",
   "execution_count": null,
   "metadata": {
    "ExecuteTime": {
     "end_time": "2021-06-17T08:26:18.439964Z",
     "start_time": "2021-06-17T08:26:18.416598Z"
    }
   },
   "outputs": [],
   "source": [
    "def plot_winds(pred,name,save=None,fore=wind_fore_rmses,vmax=0.10,figsize=(8,17),cmap='seismic',m=m,cdens=200,dpi=100.0):\n",
    "    \"\"\"\n",
    "    Plots RMSE difference of u10,v10,U.\n",
    "    Args:\n",
    "        pred (tuple): Tuple of prediction u10,v10,U RMSEs.\n",
    "        name (str): Model name.\n",
    "        save (str): If not none, saves plot as jpeg and eps by this name. Default: None\n",
    "        fore (tuple): Tuple of prediction u10,v10,U RMSEs. Default: wind_fore_rmses\n",
    "        vmax (int): Min/max value for z-axis. Default: 0.10\n",
    "        figsize (tuple): Default: (8,17)\n",
    "        cmap (str): cmap. Default: 'seismic'\n",
    "        m (basemap): Basemap for shoreline. Default: m\n",
    "        cdens (int):  cdens. Default: 200\n",
    "        dpi (float): dpi. Default: 100.0\n",
    "    \"\"\"\n",
    "    Z0 = fore[0]-pred[0]\n",
    "    Z1 = fore[1]-pred[1]\n",
    "    Z2 = fore[2]-pred[2]\n",
    "\n",
    "    fig = plt.figure(figsize=figsize, dpi=dpi)\n",
    "    ax = fig.add_subplot(311)\n",
    "    m.drawcoastlines(linewidth=0.5)\n",
    "    # m.drawcountries()\n",
    "    cs = m.contourf(X,Y,Z0, cdens, vmin=-vmax, vmax=vmax, cmap=cmap)\n",
    "    m.drawparallels(np.linspace(31,45,5), labels=[True, False, False, False], linewidth=0.0)\n",
    "    m.drawmeridians(np.linspace(-2,36,5), labels=[False, False, False, True], linewidth=0.0)\n",
    "    cbar_clr = plt.cm.ScalarMappable(cmap=cmap)\n",
    "    cbar_clr.set_array(Z0)\n",
    "    cbar_clr.set_clim(-vmax, vmax)\n",
    "    cbar = m.colorbar(cbar_clr, location='bottom',pad='10%')\n",
    "    cbar.ax.set_xlabel('u10 RMSE [m/s]', rotation=0)\n",
    "    ax.set_title('u10 FC RMSE - %s RMSE' %name)\n",
    "\n",
    "    ax = fig.add_subplot(312)\n",
    "    m.drawcoastlines(linewidth=0.5)\n",
    "    # m.drawcountries()\n",
    "    cs = m.contourf(X,Y,Z1, cdens, vmin=-vmax, vmax=vmax, cmap=cmap)\n",
    "    m.drawparallels(np.linspace(31,45,5), labels=[True, False, False, False], linewidth=0.0)\n",
    "    m.drawmeridians(np.linspace(-2,36,5), labels=[False, False, False, True], linewidth=0.0)\n",
    "    cbar_clr = plt.cm.ScalarMappable(cmap=cmap)\n",
    "    cbar_clr.set_array(Z1)\n",
    "    cbar_clr.set_clim(-vmax, vmax)\n",
    "    cbar = m.colorbar(cbar_clr, location='bottom',pad='10%')\n",
    "    cbar.ax.set_xlabel('v10 RMSE [m/s]', rotation=0)\n",
    "    ax.set_title('v10 FC RMSE - %s RMSE' %name)\n",
    "\n",
    "    ax = fig.add_subplot(313)\n",
    "    m.drawcoastlines(linewidth=0.5)\n",
    "    # m.drawcountries()\n",
    "    cs = m.contourf(X,Y,Z2, cdens, vmin=-vmax, vmax=vmax, cmap=cmap)\n",
    "    m.drawparallels(np.linspace(31,45,5), labels=[True, False, False, False], linewidth=0.0)\n",
    "    m.drawmeridians(np.linspace(-2,36,5), labels=[False, False, False, True], linewidth=0.0)\n",
    "    cbar_clr = plt.cm.ScalarMappable(cmap=cmap)\n",
    "    cbar_clr.set_array(Z2)\n",
    "    cbar_clr.set_clim(-vmax, vmax)\n",
    "    cbar = m.colorbar(cbar_clr, location='bottom',pad='10%')\n",
    "    cbar.ax.set_xlabel('U RMSE [m/s]', rotation=0)\n",
    "    ax.set_title('U FC RMSE - %s RMSE' %name)\n",
    "    \n",
    "    plt.tight_layout()\n",
    "    plt.show() \n",
    "    \n",
    "    if save is not None:\n",
    "        fig.savefig(paper_path.as_posix()+'/wind/'+save+'.eps', format='eps')\n",
    "        fig.savefig(paper_path.as_posix()+'/wind/'+save+'.jpg', format='jpeg')"
   ]
  },
  {
   "cell_type": "code",
   "execution_count": null,
   "metadata": {
    "ExecuteTime": {
     "end_time": "2021-06-17T08:26:19.092260Z",
     "start_time": "2021-06-17T08:26:18.440935Z"
    }
   },
   "outputs": [],
   "source": [
    "plot_winds(wind_umag_rmses,'UMag', figsize=(7.2,14), dpi=100\n",
    "#           ,save='UMag_winds_spatial'\n",
    "          )"
   ]
  },
  {
   "cell_type": "code",
   "execution_count": null,
   "metadata": {
    "ExecuteTime": {
     "end_time": "2021-06-16T11:39:18.327226Z",
     "start_time": "2021-06-16T11:39:17.581108Z"
    }
   },
   "outputs": [],
   "source": [
    "plot_winds(wind_uvec_rmses,'UVec', figsize=(7.2,14), dpi=100\n",
    "#           ,save='UVec_winds_spatial'\n",
    "          )\n"
   ]
  },
  {
   "cell_type": "markdown",
   "metadata": {},
   "source": [
    "#### Diurnal cycle"
   ]
  },
  {
   "cell_type": "code",
   "execution_count": null,
   "metadata": {
    "ExecuteTime": {
     "end_time": "2021-06-17T08:26:24.385425Z",
     "start_time": "2021-06-17T08:26:24.205493Z"
    }
   },
   "outputs": [],
   "source": [
    "# ds_diurnal_cycle_error(wind_fore), ds_diurnal_cycle_error(wind_umag), ds_diurnal_cycle_error(wind_uvec)\n",
    "fig = plt.figure()\n",
    "plt.plot(*ds_diurnal_cycle_mean(wind_rean,with_hour=True))\n",
    "plt.plot(*ds_diurnal_cycle_mean(wind_fore,with_hour=True),'.')\n",
    "plt.plot(*ds_diurnal_cycle_mean(wind_umag,with_hour=True),'r*')\n",
    "plt.plot(*ds_diurnal_cycle_mean(wind_uvec,with_hour=True),'go')\n",
    "plt.legend(('REAN','FC','UMag','UVec'))\n",
    "plt.xlabel('Hour')\n",
    "plt.ylabel('U[m/s]')\n",
    "plt.title('Wind Velocity Diurnal Cycle')\n",
    "\n",
    "# fig.savefig(paper_path.as_posix() + '/Dcyc_wind_vel.eps', format='eps')"
   ]
  },
  {
   "cell_type": "code",
   "execution_count": null,
   "metadata": {
    "ExecuteTime": {
     "end_time": "2021-06-17T08:26:28.405143Z",
     "start_time": "2021-06-17T08:26:28.182569Z"
    }
   },
   "outputs": [],
   "source": [
    "# ds_diurnal_cycle_error(wind_fore), ds_diurnal_cycle_error(wind_umag), ds_diurnal_cycle_error(wind_uvec)\n",
    "fig = plt.figure()\n",
    "plt.plot(*ds_diurnal_cycle_mean(wind_rean,with_hour=True,var='u10'))\n",
    "plt.plot(*ds_diurnal_cycle_mean(wind_fore,with_hour=True,var='u10'),'.')\n",
    "plt.plot(*ds_diurnal_cycle_mean(wind_umag,with_hour=True,var='u10'),'r*')\n",
    "plt.plot(*ds_diurnal_cycle_mean(wind_uvec,with_hour=True,var='u10'),'go')\n",
    "plt.legend(('REAN','FC','UMag','UVec'))\n",
    "plt.xlabel('Hour')\n",
    "plt.ylabel('u10[m/s]')\n",
    "plt.title('u10 Wind Velocity Diurnal Cycle')\n",
    "\n",
    "# fig.savefig(paper_path.as_posix() + '/Dcyc_u10.eps', format='eps')"
   ]
  },
  {
   "cell_type": "code",
   "execution_count": null,
   "metadata": {
    "ExecuteTime": {
     "end_time": "2021-06-16T11:39:34.953546Z",
     "start_time": "2021-06-16T11:39:34.779043Z"
    }
   },
   "outputs": [],
   "source": [
    "# ds_diurnal_cycle_error(wind_fore), ds_diurnal_cycle_error(wind_umag), ds_diurnal_cycle_error(wind_uvec)\n",
    "fig = plt.figure()\n",
    "plt.plot(*ds_diurnal_cycle_mean(wind_rean,with_hour=True,var='v10'))\n",
    "plt.plot(*ds_diurnal_cycle_mean(wind_fore,with_hour=True,var='v10'),'.')\n",
    "plt.plot(*ds_diurnal_cycle_mean(wind_umag,with_hour=True,var='v10'),'r*')\n",
    "plt.plot(*ds_diurnal_cycle_mean(wind_uvec,with_hour=True,var='v10'),'go')\n",
    "plt.legend(('REAN','FC','UMag','UVec'))\n",
    "plt.xlabel('Hour')\n",
    "plt.ylabel('v10[m/s]')\n",
    "plt.title('v10 Wind Velocity Diurnal Cycle')\n",
    "\n",
    "# fig.savefig(paper_path.as_posix() + '/Dcyc_v10.eps', format='eps')"
   ]
  },
  {
   "cell_type": "markdown",
   "metadata": {},
   "source": [
    "## Waves"
   ]
  },
  {
   "cell_type": "code",
   "execution_count": null,
   "metadata": {
    "ExecuteTime": {
     "end_time": "2021-06-17T12:27:13.067296Z",
     "start_time": "2021-06-17T12:27:13.048616Z"
    }
   },
   "outputs": [],
   "source": [
    "ww3_path = Path('data/ww3/')"
   ]
  },
  {
   "cell_type": "code",
   "execution_count": null,
   "metadata": {
    "ExecuteTime": {
     "end_time": "2021-06-17T12:27:13.200954Z",
     "start_time": "2021-06-17T12:27:13.132866Z"
    }
   },
   "outputs": [],
   "source": [
    "ww3_fore = xr.open_mfdataset(ww3_path.as_posix()+'/oww3.forecast*.nc',\n",
    "                                 combine='by_coords')\n",
    "ww3_rean = xr.open_mfdataset(ww3_path.as_posix()+'/oww3.reanalysis*.nc',\n",
    "                                 combine='by_coords')\n",
    "ww3_umag = xr.open_mfdataset(ww3_path.as_posix()+'/oww3.umag*.nc',\n",
    "                                 combine='by_coords')\n",
    "ww3_uvec = xr.open_mfdataset(ww3_path.as_posix()+'/oww3.uvec*.nc',\n",
    "                                 combine='by_coords')"
   ]
  },
  {
   "cell_type": "markdown",
   "metadata": {},
   "source": [
    "### Stats"
   ]
  },
  {
   "cell_type": "code",
   "execution_count": null,
   "metadata": {},
   "outputs": [],
   "source": [
    "def get_ww3_rmses(pred,rean=ww3_rean,params=['hs','dir','t0m1']):\n",
    "    rmses = []\n",
    "    for var in params:\n",
    "        rmses.append(ds_rmse(pred,rean,var))\n",
    "    return rmses"
   ]
  },
  {
   "cell_type": "code",
   "execution_count": null,
   "metadata": {},
   "outputs": [],
   "source": [
    "ww3_fore_rmses = get_ww3_rmses(ww3_fore)\n",
    "ww3_umag_rmses = get_ww3_rmses(ww3_umag)\n",
    "ww3_uvec_rmses = get_ww3_rmses(ww3_uvec)"
   ]
  },
  {
   "cell_type": "code",
   "execution_count": null,
   "metadata": {},
   "outputs": [],
   "source": [
    "def print_ww3_rmses(pred,name,fore=ww3_fore_rmses, params=['hs','dir','t0m1']):\n",
    "    for i, var in enumerate(params):\n",
    "        print('%s %s RMSE pred: %f,   fore: %f,  improved by: %f' %(name, var, pred[i],\n",
    "            fore[i],1-pred[i]/fore[i]))"
   ]
  },
  {
   "cell_type": "code",
   "execution_count": null,
   "metadata": {},
   "outputs": [],
   "source": [
    "print_ww3_rmses(ww3_umag_rmses,'UMag')\n",
    "print_ww3_rmses(ww3_uvec_rmses,'UVec')"
   ]
  },
  {
   "cell_type": "markdown",
   "metadata": {},
   "source": [
    "### Plots"
   ]
  },
  {
   "cell_type": "code",
   "execution_count": null,
   "metadata": {
    "ExecuteTime": {
     "end_time": "2021-06-17T08:26:39.249574Z",
     "start_time": "2021-06-17T08:26:39.231638Z"
    }
   },
   "outputs": [],
   "source": [
    "def spatial_rmse(pred,var='hs',rean=ww3_rean):\n",
    "    \"\"\"\n",
    "    Returns RMSE map, with the mean time.\n",
    "    Args:\n",
    "        pred (xarray): Prediction.\n",
    "        var (str): Dimension for mean. Default: 'hs'\n",
    "        rean (xarray): Ground truth. Default: ww3_rean\n",
    "    \"\"\"\n",
    "    return (((rean-pred)[var]**2).mean('time'))**0.5"
   ]
  },
  {
   "cell_type": "code",
   "execution_count": null,
   "metadata": {
    "ExecuteTime": {
     "end_time": "2021-06-17T08:26:39.274394Z",
     "start_time": "2021-06-17T08:26:39.250426Z"
    }
   },
   "outputs": [],
   "source": [
    "X = ww3_rean.isel(time=0).longitude.values\n",
    "Y = ww3_rean.isel(time=0).latitude.values\n",
    "tri = ww3_rean.isel(time=0).tri.values-1   # -1 so count will start from zero\n",
    "triang = Triangulation(X,Y,triangles=tri)"
   ]
  },
  {
   "cell_type": "code",
   "execution_count": null,
   "metadata": {
    "ExecuteTime": {
     "end_time": "2021-06-17T08:26:39.984925Z",
     "start_time": "2021-06-17T08:26:39.799624Z"
    }
   },
   "outputs": [],
   "source": [
    "ww3_sp_fore = spatial_rmse(ww3_fore).load()\n",
    "ww3_sp_umag = spatial_rmse(ww3_umag).load()\n",
    "ww3_sp_uvec = spatial_rmse(ww3_uvec).load()"
   ]
  },
  {
   "cell_type": "code",
   "execution_count": null,
   "metadata": {
    "ExecuteTime": {
     "end_time": "2021-06-17T08:26:41.845038Z",
     "start_time": "2021-06-17T08:26:40.615181Z"
    }
   },
   "outputs": [],
   "source": [
    "vm = 0.12\n",
    "fig, ax = plt.subplots(3,sharex=True,figsize=(8,9))\n",
    "im = ax[0].tripcolor(triang,np.nan_to_num(ww3_sp_fore),vmax=vm,vmin=0)\n",
    "ax[0].title.set_text('Significant wave height FC RMSE')\n",
    "ax[1].tripcolor(triang,np.nan_to_num(ww3_sp_umag),vmax=vm,vmin=0)\n",
    "ax[1].title.set_text('Significant wave height UMag RMSE')\n",
    "ax[2].tripcolor(triang,np.nan_to_num(ww3_sp_uvec),vmax=vm,vmin=0)\n",
    "ax[2].title.set_text('Significant wave height UVec RMSE')\n",
    "\n",
    "plt.xlim((9.75,36.5))\n",
    "\n",
    "ax[0].set_ylabel('Latitude')\n",
    "ax[1].set_ylabel('Latitude')\n",
    "ax[2].set_ylabel('Latitude')\n",
    "ax[2].set_xlabel('Longitude')\n",
    "\n",
    "fig.subplots_adjust(right=0.88)\n",
    "cbar_ax = fig.add_axes([0.885, 0.11, 0.02, 0.77])\n",
    "cbar = fig.colorbar(im, cax=cbar_ax)\n",
    "cbar.ax.set_ylabel('RMSE [m]', rotation=270, labelpad=10)\n",
    "\n",
    "# fig.savefig(paper_path.as_posix() + '/Hs_rmse.eps', format='eps')"
   ]
  },
  {
   "cell_type": "code",
   "execution_count": null,
   "metadata": {
    "ExecuteTime": {
     "end_time": "2021-06-17T08:26:47.918772Z",
     "start_time": "2021-06-17T08:26:47.126687Z"
    }
   },
   "outputs": [],
   "source": [
    "fig, ax = plt.subplots(2,sharex=True,figsize=(8,6))\n",
    "im = ax[0].tripcolor(triang,np.nan_to_num(ww3_sp_fore-ww3_sp_umag),vmax=0.03,vmin=-0.03,cmap='seismic')\n",
    "ax[0].title.set_text('Significant wave height FC RMSE - UMag RMSE')\n",
    "ax[1].tripcolor(triang,np.nan_to_num(ww3_sp_fore-ww3_sp_uvec),vmax=0.03,vmin=-0.03,cmap='seismic')\n",
    "ax[1].title.set_text('Significant wave height FC RMSE - UVec RMSE')\n",
    "\n",
    "plt.xlim((9.75,36.5))\n",
    "\n",
    "ax[1].set_xlabel('Longitude')\n",
    "ax[0].set_ylabel('Latitude')\n",
    "ax[1].set_ylabel('Latitude')\n",
    "\n",
    "\n",
    "fig.subplots_adjust(right=0.88)\n",
    "cbar_ax = fig.add_axes([0.885, 0.11, 0.02, 0.77])\n",
    "cbar = fig.colorbar(im, cax=cbar_ax)\n",
    "cbar.ax.set_ylabel('RMSE [m]', rotation=270)\n",
    "\n",
    "\n",
    "# fig.savefig(paper_path.as_posix() + '/Hs_rmse_diff.eps', format='eps')"
   ]
  },
  {
   "cell_type": "code",
   "execution_count": null,
   "metadata": {
    "ExecuteTime": {
     "end_time": "2021-06-17T08:26:51.045589Z",
     "start_time": "2021-06-17T08:26:49.920781Z"
    }
   },
   "outputs": [],
   "source": [
    "var = 'dir'\n",
    "vmin,vmax = -20,20\n",
    "ww3_sp_fore = spatial_rmse(ww3_fore, var=var)\n",
    "ww3_sp_umag = spatial_rmse(ww3_umag, var=var)\n",
    "ww3_sp_uvec = spatial_rmse(ww3_uvec, var=var)\n",
    "\n",
    "# fig,ax = plt.subplot(2)\n",
    "fig, ax = plt.subplots(2,sharex=True,figsize=(8,6))\n",
    "im = ax[0].tripcolor(triang,np.nan_to_num(ww3_sp_fore-ww3_sp_umag),vmax=vmax,vmin=vmin,cmap='seismic')\n",
    "ax[0].title.set_text('Mean wave direction FC RMSE - UMag RMSE')\n",
    "ax[1].tripcolor(triang,np.nan_to_num(ww3_sp_fore-ww3_sp_uvec),vmax=vmax,vmin=vmin,cmap='seismic')\n",
    "ax[1].title.set_text('Mean wave direction FC RMSE - UVec RMSE')\n",
    "\n",
    "plt.xlim((9.75,36.5))\n",
    "\n",
    "ax[1].set_xlabel('Longitude')\n",
    "ax[0].set_ylabel('Latitude')\n",
    "ax[1].set_ylabel('Latitude')\n",
    "\n",
    "\n",
    "fig.subplots_adjust(right=0.88)\n",
    "cbar_ax = fig.add_axes([0.885, 0.11, 0.02, 0.77])\n",
    "cbar = fig.colorbar(im, cax=cbar_ax)\n",
    "cbar.ax.set_ylabel('RMSE [deg]', rotation=270)\n",
    "\n",
    "\n",
    "# fig.savefig(paper_path.as_posix() + '/dir_rmse_diff.eps', format='eps')\n"
   ]
  },
  {
   "cell_type": "code",
   "execution_count": null,
   "metadata": {
    "ExecuteTime": {
     "end_time": "2021-06-17T08:26:53.422229Z",
     "start_time": "2021-06-17T08:26:52.329303Z"
    }
   },
   "outputs": [],
   "source": [
    "var = 't0m1'\n",
    "vmin,vmax = -0.15,0.15\n",
    "ww3_sp_fore = spatial_rmse(ww3_fore, var=var)\n",
    "ww3_sp_umag = spatial_rmse(ww3_umag, var=var)\n",
    "ww3_sp_uvec = spatial_rmse(ww3_uvec, var=var)\n",
    "\n",
    "# fig,ax = plt.subplot(2)\n",
    "fig, ax = plt.subplots(2,sharex=True,figsize=(8,6))\n",
    "im = ax[0].tripcolor(triang,np.nan_to_num(ww3_sp_fore-ww3_sp_umag),vmax=vmax,vmin=vmin,cmap='seismic')\n",
    "ax[0].title.set_text('Mean wave period FC RMSE - UMag RMSE')\n",
    "ax[1].tripcolor(triang,np.nan_to_num(ww3_sp_fore-ww3_sp_uvec),vmax=vmax,vmin=vmin,cmap='seismic')\n",
    "ax[1].title.set_text('Mean wave period FC RMSE - UVec RMSE')\n",
    "\n",
    "plt.xlim((9.75,36.5))\n",
    "\n",
    "ax[1].set_xlabel('Longitude')\n",
    "ax[0].set_ylabel('Latitude')\n",
    "ax[1].set_ylabel('Latitude')\n",
    "\n",
    "\n",
    "fig.subplots_adjust(right=0.88)\n",
    "cbar_ax = fig.add_axes([0.885, 0.11, 0.02, 0.77])\n",
    "cbar = fig.colorbar(im, cax=cbar_ax)\n",
    "cbar.ax.set_ylabel('RMSE [sec]', rotation=270)\n",
    "\n",
    "\n",
    "# fig.savefig(paper_path.as_posix() + '/t0m1_rmse_diff.eps', format='eps')"
   ]
  },
  {
   "cell_type": "markdown",
   "metadata": {},
   "source": [
    "### Aegean"
   ]
  },
  {
   "cell_type": "code",
   "execution_count": null,
   "metadata": {
    "ExecuteTime": {
     "end_time": "2021-06-17T08:26:55.085142Z",
     "start_time": "2021-06-17T08:26:55.061324Z"
    }
   },
   "outputs": [],
   "source": [
    "lon_ae=(22.5,29)\n",
    "lat_ae=(34,41.5)\n",
    "aegean_coord=np.where((ww3_rean.longitude.values>lon_ae[0]) * (ww3_rean.longitude.values<lon_ae[1]) *\n",
    "                      (ww3_rean.latitude.values>lat_ae[0]) * (ww3_rean.latitude.values<lat_ae[1]) )[0]"
   ]
  },
  {
   "cell_type": "code",
   "execution_count": null,
   "metadata": {
    "ExecuteTime": {
     "end_time": "2021-06-17T08:26:55.614856Z",
     "start_time": "2021-06-17T08:26:55.581140Z"
    }
   },
   "outputs": [],
   "source": [
    "ae_fore = ww3_fore.isel(node=aegean_coord).copy()\n",
    "ae_umag = ww3_umag.isel(node=aegean_coord).copy()\n",
    "ae_uvec = ww3_uvec.isel(node=aegean_coord).copy()\n",
    "ae_rean = ww3_rean.isel(node=aegean_coord).copy()"
   ]
  },
  {
   "cell_type": "code",
   "execution_count": null,
   "metadata": {
    "ExecuteTime": {
     "end_time": "2021-06-17T08:26:56.100650Z",
     "start_time": "2021-06-17T08:26:56.081645Z"
    }
   },
   "outputs": [],
   "source": [
    "def get_ww3_rmses(pred,rean=ww3_rean,params=['hs','dir','t0m1']):\n",
    "    rmses = []\n",
    "    for var in params:\n",
    "        rmses.append(ds_rmse(pred,rean,var))\n",
    "    return rmses"
   ]
  },
  {
   "cell_type": "code",
   "execution_count": null,
   "metadata": {
    "ExecuteTime": {
     "end_time": "2021-06-17T08:26:56.798568Z",
     "start_time": "2021-06-17T08:26:56.565694Z"
    }
   },
   "outputs": [],
   "source": [
    "umag_ae_rmses = get_ww3_rmses(ae_umag,ae_rean)\n",
    "uvec_ae_rmses = get_ww3_rmses(ae_uvec,ae_rean)\n",
    "fore_ae_rmses = get_ww3_rmses(ae_fore,ae_rean)"
   ]
  },
  {
   "cell_type": "code",
   "execution_count": null,
   "metadata": {
    "ExecuteTime": {
     "end_time": "2021-06-17T08:26:57.051435Z",
     "start_time": "2021-06-17T08:26:57.032566Z"
    }
   },
   "outputs": [],
   "source": [
    "def print_ww3_rmses(pred,name,fore=fore_ae_rmses, params=['hs','dir','t0m1']):\n",
    "    for i, var in enumerate(params):\n",
    "        print('%s %s RMSE pred: %f,   fore: %f,  improved by: %f' %(name, var, pred[i],\n",
    "            fore[i],1-pred[i]/fore[i]))"
   ]
  },
  {
   "cell_type": "code",
   "execution_count": null,
   "metadata": {
    "ExecuteTime": {
     "end_time": "2021-06-17T08:26:57.623682Z",
     "start_time": "2021-06-17T08:26:57.605046Z"
    }
   },
   "outputs": [],
   "source": [
    "print_ww3_rmses(umag_ae_rmses,'UMag')\n",
    "print_ww3_rmses(uvec_ae_rmses,'UVec')"
   ]
  },
  {
   "cell_type": "code",
   "execution_count": null,
   "metadata": {
    "ExecuteTime": {
     "end_time": "2021-06-17T08:26:58.734792Z",
     "start_time": "2021-06-17T08:26:58.493805Z"
    }
   },
   "outputs": [],
   "source": [
    "etesian_time = slice('15/05/2017','15/09/2017')\n",
    "params = ['hs','dir','t0m1']\n",
    "umag_etesian_rmses = get_ww3_rmses(ae_umag.sel(time=etesian_time),ae_rean.sel(time=etesian_time),params)\n",
    "uvec_etesian_rmses = get_ww3_rmses(ae_uvec.sel(time=etesian_time),ae_rean.sel(time=etesian_time),params)\n",
    "fore_etesian_rmses = get_ww3_rmses(ae_fore.sel(time=etesian_time),ae_rean.sel(time=etesian_time),params)\n",
    "\n",
    "print_ww3_rmses(umag_etesian_rmses, 'Etesian UMag', fore_etesian_rmses, params)\n",
    "print_ww3_rmses(uvec_etesian_rmses, 'Etesian UVec', fore_etesian_rmses, params)"
   ]
  }
 ],
 "metadata": {
  "kernelspec": {
   "display_name": "Python 3",
   "language": "python",
   "name": "python3"
  },
  "language_info": {
   "codemirror_mode": {
    "name": "ipython",
    "version": 3
   },
   "file_extension": ".py",
   "mimetype": "text/x-python",
   "name": "python",
   "nbconvert_exporter": "python",
   "pygments_lexer": "ipython3",
   "version": "3.7.6"
  },
  "toc": {
   "base_numbering": 1,
   "nav_menu": {},
   "number_sections": true,
   "sideBar": true,
   "skip_h1_title": false,
   "title_cell": "Table of Contents",
   "title_sidebar": "Contents",
   "toc_cell": false,
   "toc_position": {},
   "toc_section_display": true,
   "toc_window_display": false
  }
 },
 "nbformat": 4,
 "nbformat_minor": 4
}
